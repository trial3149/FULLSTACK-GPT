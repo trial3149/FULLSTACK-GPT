{
 "cells": [
  {
   "cell_type": "code",
   "execution_count": null,
   "id": "f46cd842",
   "metadata": {},
   "outputs": [],
   "source": [
    "from langchain.memory import ConversationSummaryBufferMemory\n",
    "from langchain.chat_models import ChatOpenAI\n",
    "\n",
    "llm = ChatOpenAI(temperature=0.1)\n",
    "\n",
    "memory = ConversationSummaryBufferMemory(\n",
    "    llm=llm,\n",
    "    return_messages=True,\n",
    "    max_token_limit=150,    # token limit에 걸릴경우 요약\n",
    "    )\n",
    "\n",
    "def add_message(input, output):\n",
    "    memory.save_context({\"input\": input}, {\"output\": output})\n",
    "\n",
    "def get_history():\n",
    "    return memory.load_memory_variables({})\n",
    "\n",
    "add_message(\"Hi I'm Gyujin, I live in South Korea\", \"It's so cool!!\")"
   ]
  },
  {
   "cell_type": "code",
   "execution_count": 7,
   "id": "6639d19c",
   "metadata": {},
   "outputs": [],
   "source": [
    "add_message(\"South Korea is awesome\", \"I wish I could go!\")"
   ]
  },
  {
   "cell_type": "code",
   "execution_count": 8,
   "id": "4cc75eea",
   "metadata": {},
   "outputs": [
    {
     "data": {
      "text/plain": [
       "{'history': [HumanMessage(content=\"Hi I'm Gyujin, I live in South Korea\"),\n",
       "  AIMessage(content=\"It's so cool!!\"),\n",
       "  HumanMessage(content='South Korea is awesome'),\n",
       "  AIMessage(content='I wish I could go!')]}"
      ]
     },
     "execution_count": 8,
     "metadata": {},
     "output_type": "execute_result"
    }
   ],
   "source": [
    "get_history()"
   ]
  },
  {
   "cell_type": "code",
   "execution_count": 9,
   "id": "c01cbeb8",
   "metadata": {},
   "outputs": [
    {
     "data": {
      "text/plain": [
       "{'history': [HumanMessage(content=\"Hi I'm Gyujin, I live in South Korea\"),\n",
       "  AIMessage(content=\"It's so cool!!\"),\n",
       "  HumanMessage(content='South Korea is awesome'),\n",
       "  AIMessage(content='I wish I could go!'),\n",
       "  HumanMessage(content='How far is Korea from Japan?'),\n",
       "  AIMessage(content=\"I don't know.\")]}"
      ]
     },
     "execution_count": 9,
     "metadata": {},
     "output_type": "execute_result"
    }
   ],
   "source": [
    "add_message(\"How far is Korea from Japan?\", \"I don't know.\")\n",
    "get_history()"
   ]
  },
  {
   "cell_type": "code",
   "execution_count": 13,
   "id": "f9348876",
   "metadata": {},
   "outputs": [],
   "source": [
    "add_message(\"South Korea is pretty\", \"I wish I could go!\")\n",
    "add_message(\"How far is Brazil from Japan?\", \"I don't know.\")"
   ]
  },
  {
   "cell_type": "code",
   "execution_count": 14,
   "id": "52c0fb46",
   "metadata": {},
   "outputs": [
    {
     "data": {
      "text/plain": [
       "{'history': [SystemMessage(content='The human introduces themselves as Gyujin from South Korea. The AI responds enthusiastically, saying \"It\\'s so cool!!\" The human mentions that South Korea is awesome, and the AI expresses a desire to visit. The human asks how far Korea is from Japan.'),\n",
       "  AIMessage(content=\"I don't know.\"),\n",
       "  HumanMessage(content='South Korea is pretty'),\n",
       "  AIMessage(content='I wish I could go!'),\n",
       "  HumanMessage(content='How far is Brazil from Japan?'),\n",
       "  AIMessage(content=\"I don't know.\"),\n",
       "  HumanMessage(content='South Korea is pretty'),\n",
       "  AIMessage(content='I wish I could go!'),\n",
       "  HumanMessage(content='How far is Brazil from Japan?'),\n",
       "  AIMessage(content=\"I don't know.\"),\n",
       "  HumanMessage(content='South Korea is pretty'),\n",
       "  AIMessage(content='I wish I could go!'),\n",
       "  HumanMessage(content='How far is Brazil from Japan?'),\n",
       "  AIMessage(content=\"I don't know.\")]}"
      ]
     },
     "execution_count": 14,
     "metadata": {},
     "output_type": "execute_result"
    }
   ],
   "source": [
    "get_history()"
   ]
  }
 ],
 "metadata": {
  "kernelspec": {
   "display_name": "env",
   "language": "python",
   "name": "python3"
  },
  "language_info": {
   "codemirror_mode": {
    "name": "ipython",
    "version": 3
   },
   "file_extension": ".py",
   "mimetype": "text/x-python",
   "name": "python",
   "nbconvert_exporter": "python",
   "pygments_lexer": "ipython3",
   "version": "3.11.6"
  }
 },
 "nbformat": 4,
 "nbformat_minor": 5
}
