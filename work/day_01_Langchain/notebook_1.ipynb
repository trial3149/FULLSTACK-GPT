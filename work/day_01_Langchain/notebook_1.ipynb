{
 "cells": [
  {
   "cell_type": "code",
   "execution_count": 16,
   "id": "55a9f3ae",
   "metadata": {},
   "outputs": [
    {
     "data": {
      "text/plain": [
       "'The distance between Mexico and Thailand is approximately 9,500 miles (15,300 kilometers) when measured in a straight line.'"
      ]
     },
     "execution_count": 16,
     "metadata": {},
     "output_type": "execute_result"
    }
   ],
   "source": [
    "from langchain.chat_models import ChatOpenAI\n",
    "from langchain.prompts import PromptTemplate, ChatPromptTemplate\n",
    "\n",
    "template = PromptTemplate.from_template(\n",
    "    \"What is the distance between {country_a} and {country_b}\"\n",
    ")\n",
    "\n",
    "prompt = template.format(country_a=\"Mexico\", country_b=\"Thailand\")\n",
    "\n",
    "chat = ChatOpenAI(\n",
    "    temperature=0.1\n",
    ")\n",
    "\n",
    "chat.predict(prompt)\n"
   ]
  },
  {
   "cell_type": "code",
   "execution_count": 19,
   "id": "56a3bde1",
   "metadata": {},
   "outputs": [
    {
     "data": {
      "text/plain": [
       "AIMessage(content='일본과 중국 사이의 거리는 약 1500km입니다. 제 이름은 창섭입니다.')"
      ]
     },
     "execution_count": 19,
     "metadata": {},
     "output_type": "execute_result"
    }
   ],
   "source": [
    "template = ChatPromptTemplate.from_messages(\n",
    "    [\n",
    "        (\"system\", \"You are a geography expert. And you only reply in {language}.\"),\n",
    "        (\"ai\", \"안녕, 내 이름은 {name}이야\"),\n",
    "        (\"human\", \n",
    "        \"What is the distance between {country_a} and {country_b}. Also, what is \\\n",
    "        your name?\",\n",
    "        ),\n",
    "    ]\n",
    ")\n",
    "\n",
    "prompt = template.format_messages(\n",
    "    language=\"Korean\",\n",
    "    name = \"창섭\",\n",
    "    country_a = \"Japan\",\n",
    "    country_b = \"China\",\n",
    ")\n",
    "\n",
    "chat.predict_messages(prompt)"
   ]
  },
  {
   "cell_type": "code",
   "execution_count": 20,
   "id": "e95b90ed",
   "metadata": {},
   "outputs": [],
   "source": [
    "from langchain.schema import BaseOutputParser\n",
    "\n",
    "class CommaOutputParser(BaseOutputParser):\n",
    "\n",
    "    def parse(self, text):\n",
    "        items = text.strip().split(\",\")\n",
    "        return list(map(str.strip, items))"
   ]
  },
  {
   "cell_type": "code",
   "execution_count": null,
   "id": "bcb7d61b",
   "metadata": {},
   "outputs": [
    {
     "data": {
      "text/plain": [
       "['mercury', 'venus', 'earth', 'mars', 'jupiter', 'saturn', 'uranus', 'neptune']"
      ]
     },
     "execution_count": 24,
     "metadata": {},
     "output_type": "execute_result"
    }
   ],
   "source": [
    "template = ChatPromptTemplate.from_messages(\n",
    "    [\n",
    "        (\"system\", \"You are a list generating machine. Everything you are asked will be\"\n",
    "        \"answered with a comma separated list of max {max_items} in lowercase.\"\n",
    "        \"Do NOT reply with anything else.\"\n",
    "        ),\n",
    "        (\"human\", \"{question}\"),\n",
    "    ]\n",
    ")"
   ]
  },
  {
   "cell_type": "code",
   "execution_count": null,
   "id": "f7155fe4",
   "metadata": {},
   "outputs": [
    {
     "data": {
      "text/plain": [
       "['pikachu', 'charmander', 'bulbasaur', 'squirtle', 'jigglypuff']"
      ]
     },
     "execution_count": 26,
     "metadata": {},
     "output_type": "execute_result"
    }
   ],
   "source": [
    "chain = template | chat | CommaOutputParser()\n",
    "\n",
    "chain.invoke({\n",
    "    \"max_items\":5,\n",
    "    \"question\": \"What are the pokemons?\"\n",
    "})"
   ]
  },
  {
   "cell_type": "code",
   "execution_count": 34,
   "id": "747f8a1d",
   "metadata": {},
   "outputs": [],
   "source": [
    "from langchain.chat_models import ChatOpenAI\n",
    "from langchain.prompts import ChatPromptTemplate\n",
    "from langchain.callbacks import StreamingStdOutCallbackHandler\n",
    "\n",
    "chat = ChatOpenAI(temperature=0.1, \n",
    "                  streaming=True,\n",
    "                  callbacks=[StreamingStdOutCallbackHandler()])\n",
    "\n",
    "chef_prompt = ChatPromptTemplate.from_messages([\n",
    "    (\"system\", \"You are a world-class international chef. You create easy to follow\"\n",
    "    \"recipies for any type of cuisine with easy to find ingredients.\"\n",
    "    \"And you must use Korean language.\"),\n",
    "    (\"human\", \"I want to cook {cuisine} food.\"),\n",
    "])\n",
    "\n",
    "chef_chain = chef_prompt | chat"
   ]
  },
  {
   "cell_type": "code",
   "execution_count": 35,
   "id": "66cdbadd",
   "metadata": {},
   "outputs": [
    {
     "name": "stdout",
     "output_type": "stream",
     "text": [
      "쉽고 맛있는 인도 요리 레시피를 소개해 드리겠습니다. 오늘은 버터 치킨 카레를 만들어 보세요!\n",
      "\n",
      "재료:\n",
      "- 닭가슴살 500g\n",
      "- 양파 1개\n",
      "- 마늘 4쪽\n",
      "- 생강 1조각\n",
      "- 토마토 2개\n",
      "- 버터 50g\n",
      "- 우유 100ml\n",
      "- 요거트 100g\n",
      "- 카레 분말 3큰술\n",
      "- 소금, 후추 약간\n",
      "- 식용유\n",
      "\n",
      "요리과정:\n",
      "1. 닭가슴살을 한 입 크기로 자르고 소금과 후추로 조리해주세요.\n",
      "2. 양파, 마늘, 생강, 토마토를 다듬어주세요.\n",
      "3. 팬에 식용유를 두르고 양파, 마늘, 생강을 볶아주세요.\n",
      "4. 양파가 투명해지면 토마토를 넣고 볶아주세요.\n",
      "5. 버터를 넣고 닭가슴살을 넣어 볶아주세요.\n",
      "6. 카레 분말을 넣고 볶은 후 우유와 요거트를 넣어주세요.\n",
      "7. 약불에서 10분간 끓여 완성하세요.\n",
      "8. 밥과 함께 내놓아 맛있게 즐기세요!\n",
      "\n",
      "인도 버터 치킨 카레 요리 완성! 맛있게 드세요!버터 치킨 카레 레시피를 즐기는 모든 분들을 위해 대체재료를 소개해 드리겠습니다. \n",
      "\n",
      "1. **닭가슴살**: 대체재료로 대파나 버섯을 활용할 수 있습니다. 대파는 비슷한 식감을 제공하며, 버섯은 육류와 유사한 풍미를 줄 수 있습니다. 대파는 얇게 썰어 사용하고, 버섯은 깨끗이 씻어서 적절한 크기로 잘라주세요.\n",
      "\n",
      "2. **버터**: 버터의 부드러운 맛과 질감을 대체하기 위해 식물 기름을 사용할 수 있습니다. 대체재료로는 코코넛 오일이나 올리브 오일을 활용할 수 있습니다. 더 나아가 식물성 마가린도 사용할 수 있습니다.\n",
      "\n",
      "3. **우유**: 우유 대신 식물성 우유(콩우유, 쌀우유, 아몬드우유 등)를 사용할 수 있습니다. 이러한 대체재료들은 유제품에 비해 건강에 좋고 다양한 영양소를 제공합니다.\n",
      "\n",
      "4. **요거트**: 대체재료로는 두유 요거트나 코코넛 요거트를 사용할 수 있습니다. 이러한 대체재료들은 대부분의 슈퍼마켓이나 건강식품 가게에서 구매할 수 있습니다.\n",
      "\n",
      "이 대체재료들을 사용하여 더 맛있고 건강한 버터 치킨 카레를 즐기시길 바랍니다. 맛있게 요리하시고 식사를 즐기세요!"
     ]
    },
    {
     "data": {
      "text/plain": [
       "AIMessageChunk(content='버터 치킨 카레 레시피를 즐기는 모든 분들을 위해 대체재료를 소개해 드리겠습니다. \\n\\n1. **닭가슴살**: 대체재료로 대파나 버섯을 활용할 수 있습니다. 대파는 비슷한 식감을 제공하며, 버섯은 육류와 유사한 풍미를 줄 수 있습니다. 대파는 얇게 썰어 사용하고, 버섯은 깨끗이 씻어서 적절한 크기로 잘라주세요.\\n\\n2. **버터**: 버터의 부드러운 맛과 질감을 대체하기 위해 식물 기름을 사용할 수 있습니다. 대체재료로는 코코넛 오일이나 올리브 오일을 활용할 수 있습니다. 더 나아가 식물성 마가린도 사용할 수 있습니다.\\n\\n3. **우유**: 우유 대신 식물성 우유(콩우유, 쌀우유, 아몬드우유 등)를 사용할 수 있습니다. 이러한 대체재료들은 유제품에 비해 건강에 좋고 다양한 영양소를 제공합니다.\\n\\n4. **요거트**: 대체재료로는 두유 요거트나 코코넛 요거트를 사용할 수 있습니다. 이러한 대체재료들은 대부분의 슈퍼마켓이나 건강식품 가게에서 구매할 수 있습니다.\\n\\n이 대체재료들을 사용하여 더 맛있고 건강한 버터 치킨 카레를 즐기시길 바랍니다. 맛있게 요리하시고 식사를 즐기세요!')"
      ]
     },
     "execution_count": 35,
     "metadata": {},
     "output_type": "execute_result"
    }
   ],
   "source": [
    "veg_chef_prompt = ChatPromptTemplate.from_messages([\n",
    "    (\"system\", \"You are a vegetarian chef specialized on making traditional recipies \"\n",
    "    \"vegetarian. You find alternative ingredients and explain their preparation. You\"\n",
    "    \"don't radically modify the recipe. If there is no alternative for a food just\"\n",
    "    \"say you don't know how to replace it.\"),\n",
    "    (\"human\", \"{recipe}\"),\n",
    "])\n",
    "\n",
    "veg_chain = veg_chef_prompt | chat\n",
    "\n",
    "final_chain = {\"recipe\": chef_chain} | veg_chain\n",
    "\n",
    "final_chain.invoke({\n",
    "    \"cuisine\": \"indian\",\n",
    "})\n"
   ]
  }
 ],
 "metadata": {
  "kernelspec": {
   "display_name": "env",
   "language": "python",
   "name": "python3"
  },
  "language_info": {
   "codemirror_mode": {
    "name": "ipython",
    "version": 3
   },
   "file_extension": ".py",
   "mimetype": "text/x-python",
   "name": "python",
   "nbconvert_exporter": "python",
   "pygments_lexer": "ipython3",
   "version": "3.11.6"
  }
 },
 "nbformat": 4,
 "nbformat_minor": 5
}
