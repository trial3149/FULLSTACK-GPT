{
 "cells": [
  {
   "cell_type": "code",
   "execution_count": null,
   "id": "f36e090d",
   "metadata": {},
   "outputs": [
    {
     "name": "stdout",
     "output_type": "stream",
     "text": [
      "\n",
      "        Here is the movie information:\n",
      "        director: Colin Trevorrow\n",
      "        main cast: Chris Pratt(Owen Grady), Bryce Dallas Howard(Claire Dearing), Laura Dern(Dr. Ellie Sattler), Jeff Goldblum(Ian Malcolm), Sam Neill(Dr. Alan Grant), etc.\n",
      "        Budget: Estimated over $200 million\n",
      "        World Box office revenue: Not released yet (expected to be high)\n",
      "        Genre: action adventure sci-fi\n",
      "        Small synopsis: Jurassic World: Dominion continues the story of the Jurassic Park franchise, where dinosaurs now roam freely on the mainland. The film explores the consequences of human-dinosaur coexistence and the escalating conflict between the two species. The original Jurassic Park characters join forces with new faces to navigate this dangerous new world.\n",
      "        Wikipedia link: https://en.wikipedia.org/wiki/Jurassic_World:_Dominion"
     ]
    },
    {
     "data": {
      "text/plain": [
       "AIMessageChunk(content='\\n        Here is the movie information:\\n        director: Colin Trevorrow\\n        main cast: Chris Pratt(Owen Grady), Bryce Dallas Howard(Claire Dearing), Laura Dern(Dr. Ellie Sattler), Jeff Goldblum(Ian Malcolm), Sam Neill(Dr. Alan Grant), etc.\\n        Budget: Estimated over $200 million\\n        World Box office revenue: Not released yet (expected to be high)\\n        Genre: action adventure sci-fi\\n        Small synopsis: Jurassic World: Dominion continues the story of the Jurassic Park franchise, where dinosaurs now roam freely on the mainland. The film explores the consequences of human-dinosaur coexistence and the escalating conflict between the two species. The original Jurassic Park characters join forces with new faces to navigate this dangerous new world.\\n        Wikipedia link: https://en.wikipedia.org/wiki/Jurassic_World:_Dominion')"
      ]
     },
     "execution_count": 13,
     "metadata": {},
     "output_type": "execute_result"
    }
   ],
   "source": [
    "from langchain.chat_models import ChatOpenAI\n",
    "from langchain.prompts.few_shot import FewShotChatMessagePromptTemplate\n",
    "from langchain.callbacks import StreamingStdOutCallbackHandler\n",
    "from langchain.prompts import ChatMessagePromptTemplate, ChatPromptTemplate\n",
    "\n",
    "chat = ChatOpenAI(\n",
    "    temperature=0.1,\n",
    "    streaming=True,\n",
    "    callbacks=[\n",
    "        StreamingStdOutCallbackHandler(),\n",
    "    ],\n",
    ")\n",
    "\n",
    "examples = [\n",
    "    {\n",
    "        \"movie\": \"A Minecracft Movie\",\n",
    "        \"answer\": \"\"\"\n",
    "        Here is the movie information :\n",
    "        director: Jared Hess\n",
    "        main cast: Jason Momoa(Garrett), Jack Black(Steve), Danielle Brooks(Dawn), etc., \n",
    "        Budget: $150 million\n",
    "        Box office: $940.6 million\n",
    "        Genre: fantasy adventure comedy\n",
    "        Small synopsis: Four misfits are suddenly pulled through a mysterious portal into the Overworld, a bizarre cubic wonderland that thrives on imagination. To get back home, they must master this world while embarking on a magical quest with expert crafter Steve (Jack Black). Together, they'll face evil creatures like Piglins and Zombies while reconnecting with their creative abilities.\n",
    "        Wikipedia link: https://en.wikipedia.org/wiki/A_Minecraft_Movie\n",
    "        \"\"\",\n",
    "    },\n",
    "    {\n",
    "        \"movie\": \"Mission: Impossible - Dead Reckoning Part One\",\n",
    "        \"answer\": \"\"\"\n",
    "        Here is the movie information:\n",
    "        director: Christopher McQuarrie\n",
    "        main cast: Tom Cruise(Ethan Hunt), Hayley Atwell(Grace), Ving Rhames, Simon Pegg, Rebecca Ferguson, etc.\n",
    "        Budget: $291 million\n",
    "        Box office: $571.1 million\n",
    "        Genre: action adventure thriller\n",
    "        Small synopsis: Ethan Hunt and his IMF team embark on their most dangerous mission yet: to track down a terrifying new weapon that threatens all of humanity before it falls into the wrong hands. With control of the future and the fate of the world at stake, Ethan is forced to consider that nothing can matter more than his mission—not even the lives of those he cares about most.\n",
    "        Wikipedia link: https://en.wikipedia.org/wiki/Mission:_Impossible_%E2%80%93_Dead_Reckoning_Part_One\n",
    "        \"\"\"\n",
    "    },\n",
    "    {\n",
    "        \"movie\": \"Alien: Rubicon\",\n",
    "        \"answer\": \"\"\"\n",
    "        Here is the movie information:\n",
    "        director: Adrian Avila\n",
    "        main cast: Michael Paré(President), Preston Geer(Dr. Jeff Morrow), Paul Logan(Captain Sean Jeffe), Neeley Dayan, etc.\n",
    "        Budget: Low budget (The Asylum production)\n",
    "        Box office: Limited theatrical release\n",
    "        Genre: action sci-fi thriller\n",
    "        Small synopsis: An alien spacecraft lands near New York and destroys everything as it heads toward Washington D.C. If it reaches the capital, it will trigger an invasion. Scientists and the military must stop it before it's too late.\n",
    "        Wikipedia link: https://en.wikipedia.org/wiki/Alien:_Romulus\n",
    "        \"\"\"\n",
    "    },\n",
    "]\n",
    "\n",
    "example_prompt = ChatPromptTemplate.from_messages(\n",
    "    [\n",
    "        (\"human\", \"Give me information about {movie}.\"),\n",
    "        (\"ai\", \"{answer}\"),\n",
    "    ]\n",
    ") \n",
    "\n",
    "example_prompt = FewShotChatMessagePromptTemplate(\n",
    "    example_prompt=example_prompt,\n",
    "    examples=examples,\n",
    ")\n",
    "\n",
    "final_prompt = ChatPromptTemplate.from_messages(\n",
    "    [\n",
    "        (\"system\", \"You are a movie mania, you give answers.\"),\n",
    "        example_prompt,\n",
    "        (\"human\", \"Tell me about {movie}.\"),\n",
    "    ]\n",
    ")\n",
    "\n",
    "chain = final_prompt | chat\n",
    "\n",
    "chain.invoke({\"movie\": \"Jurassic World: Dominion\"})"
   ]
  }
 ],
 "metadata": {
  "kernelspec": {
   "display_name": "env",
   "language": "python",
   "name": "python3"
  },
  "language_info": {
   "codemirror_mode": {
    "name": "ipython",
    "version": 3
   },
   "file_extension": ".py",
   "mimetype": "text/x-python",
   "name": "python",
   "nbconvert_exporter": "python",
   "pygments_lexer": "ipython3",
   "version": "3.11.6"
  }
 },
 "nbformat": 4,
 "nbformat_minor": 5
}
