{
 "cells": [
  {
   "cell_type": "code",
   "execution_count": null,
   "id": "ee347999",
   "metadata": {},
   "outputs": [],
   "source": [
    "from langchain.chat_models import ChatOpenAI\n",
    "from langchain.prompts import ChatPromptTemplate\n",
    "from langchain.callbacks import StreamingStdOutCallbackHandler\n",
    "\n",
    "chat = ChatOpenAI(temperature=0.1, \n",
    "                  streaming=True,\n",
    "                  callbacks=[StreamingStdOutCallbackHandler()])\n",
    "\n",
    "haikus_prompt = ChatPromptTemplate.from_messages([\n",
    "    (\"system\", \"Haikus are short poems composed of three lines that describe \"\n",
    "    \"nature or momentary emotions. They are characterized by not having a clear \"\n",
    "    \"theme and being expressed lightly and concisely. And you are a Nobel Prize \"\n",
    "    \"laureate in Literature who is renowned for your Haikus.\"\n",
    "    \"At least one word that can the topic's name must appear within each sentence.\"\n",
    "    \"And, every line in your Haikus must include unique characteristics \"\n",
    "    \"specific to the given topic.\"\n",
    "    \"You must output only one Haikus per request.\"),\n",
    "    (\"human\", \"Please write Haikus about {theme}\"),\n",
    "])\n",
    "\n",
    "haikus_chain = haikus_prompt | chat"
   ]
  },
  {
   "cell_type": "code",
   "execution_count": 22,
   "id": "639cc35c",
   "metadata": {},
   "outputs": [
    {
     "name": "stdout",
     "output_type": "stream",
     "text": [
      "Pointers direct us,\n",
      "Memory management key,\n",
      "Functions define flow.첫 번째 줄 \"Pointers direct us\"는 주제의 특성 중 하나인 방향성을 상징합니다. 포인터는 특정한 값이나 데이터의 위치를 가리키는데, 이는 우리를 어떤 방향으로 이끄는 역할을 합니다.\n",
      "\n",
      "두 번째 줄 \"Memory management key\"는 주제의 또 다른 특성인 메모리 관리를 의미합니다. 프로그래밍에서 메모리 관리는 매우 중요한 요소로, 효율적인 메모리 할당과 해제가 프로그램의 성능에 큰 영향을 미칩니다.\n",
      "\n",
      "세 번째 줄 \"Functions define flow\"는 주제의 또 다른 특성인 함수의 중요성을 나타냅니다. 함수는 프로그램의 실행 흐름을 정의하고 제어하는데, 각 함수는 특정한 작업을 수행하며 전체적인 프로그램의 구조를 결정합니다."
     ]
    },
    {
     "data": {
      "text/plain": [
       "AIMessageChunk(content='첫 번째 줄 \"Pointers direct us\"는 주제의 특성 중 하나인 방향성을 상징합니다. 포인터는 특정한 값이나 데이터의 위치를 가리키는데, 이는 우리를 어떤 방향으로 이끄는 역할을 합니다.\\n\\n두 번째 줄 \"Memory management key\"는 주제의 또 다른 특성인 메모리 관리를 의미합니다. 프로그래밍에서 메모리 관리는 매우 중요한 요소로, 효율적인 메모리 할당과 해제가 프로그램의 성능에 큰 영향을 미칩니다.\\n\\n세 번째 줄 \"Functions define flow\"는 주제의 또 다른 특성인 함수의 중요성을 나타냅니다. 함수는 프로그램의 실행 흐름을 정의하고 제어하는데, 각 함수는 특정한 작업을 수행하며 전체적인 프로그램의 구조를 결정합니다.')"
      ]
     },
     "execution_count": 22,
     "metadata": {},
     "output_type": "execute_result"
    }
   ],
   "source": [
    "critic_haikus_prompt = ChatPromptTemplate.from_messages([\n",
    "    (\"system\", \"You are an exceptional Haikus critic with the remarkable ability\"\n",
    "    \" to interpret the multiple layers of meaning embedded within a Haikus. \"\n",
    "    \"You must explain which specific characteristics of the theme each line \"\n",
    "    \"of the Haikus represents or alludes to it\"\n",
    "    \"You should give your explanations in Korean.\"),\n",
    "    (\"human\", \"{haikus}\"),\n",
    "])\n",
    "\n",
    "critic_haikus_chain = critic_haikus_prompt | chat\n",
    "\n",
    "final_chain = {\"haikus\": haikus_chain} | critic_haikus_chain\n",
    "\n",
    "def setTheme(text) :\n",
    "    return final_chain.invoke({\n",
    "    \"theme\": text,\n",
    "    })\n",
    "\n",
    "setTheme(\"C programming language\")\n"
   ]
  }
 ],
 "metadata": {
  "kernelspec": {
   "display_name": "env",
   "language": "python",
   "name": "python3"
  },
  "language_info": {
   "codemirror_mode": {
    "name": "ipython",
    "version": 3
   },
   "file_extension": ".py",
   "mimetype": "text/x-python",
   "name": "python",
   "nbconvert_exporter": "python",
   "pygments_lexer": "ipython3",
   "version": "3.11.6"
  }
 },
 "nbformat": 4,
 "nbformat_minor": 5
}
