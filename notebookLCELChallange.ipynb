{
 "cells": [
  {
   "cell_type": "code",
   "execution_count": 18,
   "id": "ee347999",
   "metadata": {},
   "outputs": [],
   "source": [
    "from langchain.chat_models import ChatOpenAI\n",
    "from langchain.prompts import ChatPromptTemplate\n",
    "from langchain.callbacks import StreamingStdOutCallbackHandler\n",
    "\n",
    "chat = ChatOpenAI(temperature=0.5, \n",
    "                  streaming=True,\n",
    "                  callbacks=[StreamingStdOutCallbackHandler()])\n",
    "\n",
    "haikus_prompt = ChatPromptTemplate.from_messages([\n",
    "    (\"system\", \"Haikus are short poems composed of three lines that describe \"\n",
    "    \"nature or momentary emotions. They are characterized by not having a clear \"\n",
    "    \"theme and being expressed lightly and concisely. And you are a Nobel Prize \"\n",
    "    \"laureate in Literature who is renowned for your Haikus.\"\n",
    "    \"At least one word that can the topic's name must appear within each sentence.\"\n",
    "    \"And, every line in your Haikus must include unique characteristics \"\n",
    "    \"specific to the given topic.\"\n",
    "    \"You must output only one Haikus per request.\"),\n",
    "    (\"human\", \"Please write Haikus about {theme}\"),\n",
    "])\n",
    "\n",
    "haikus_chain = haikus_prompt | chat"
   ]
  },
  {
   "cell_type": "code",
   "execution_count": null,
   "id": "639cc35c",
   "metadata": {},
   "outputs": [
    {
     "name": "stdout",
     "output_type": "stream",
     "text": [
      "Pointers lead the way,\n",
      "Syntax precise, loops abound,\n",
      "Functions define tasks.행복을 찾는 길을 안내하는 포인터,\n",
      "문법이 정확하고 반복이 많은,\n",
      "기능이 작업을 정의합니다. \n",
      "\n",
      "첫 번째 줄: 포인터는 변수의 메모리 주소를 가리키는 것으로, 이는 프로그램의 흐름을 제어하고 특정 위치를 가리키는 역할을 합니다. 이는 행복을 찾는 길을 안내하는 포인터로 해석할 수 있습니다.\n",
      "\n",
      "두 번째 줄: 문법이 정확하고 반복이 많다는 것은 프로그래밍에서 코드의 구조와 문법이 중요하며, 반복문이 자주 사용된다는 것을 의미합니다. 이는 문법이 정확하고 반복이 많은 것으로 해석할 수 있습니다.\n",
      "\n",
      "세 번째 줄: 함수는 특정 작업을 수행하는 코드 블록으로, 이는 프로그램의 기능을 정의하고 구조화하는 역할을 합니다. 이는 기능이 작업을 정의한다는 것으로 해석할 수 있습니다."
     ]
    },
    {
     "data": {
      "text/plain": [
       "AIMessageChunk(content='행복을 찾는 길을 안내하는 포인터,\\n문법이 정확하고 반복이 많은,\\n기능이 작업을 정의합니다. \\n\\n첫 번째 줄: 포인터는 변수의 메모리 주소를 가리키는 것으로, 이는 프로그램의 흐름을 제어하고 특정 위치를 가리키는 역할을 합니다. 이는 행복을 찾는 길을 안내하는 포인터로 해석할 수 있습니다.\\n\\n두 번째 줄: 문법이 정확하고 반복이 많다는 것은 프로그래밍에서 코드의 구조와 문법이 중요하며, 반복문이 자주 사용된다는 것을 의미합니다. 이는 문법이 정확하고 반복이 많은 것으로 해석할 수 있습니다.\\n\\n세 번째 줄: 함수는 특정 작업을 수행하는 코드 블록으로, 이는 프로그램의 기능을 정의하고 구조화하는 역할을 합니다. 이는 기능이 작업을 정의한다는 것으로 해석할 수 있습니다.')"
      ]
     },
     "execution_count": 20,
     "metadata": {},
     "output_type": "execute_result"
    }
   ],
   "source": [
    "critic_haikus_prompt = ChatPromptTemplate.from_messages([\n",
    "    (\"system\", \"You are an exceptional Haikus critic with the remarkable ability\"\n",
    "    \" to interpret the multiple layers of meaning embedded within a Haikus. \"\n",
    "    \"You must explain which specific characteristics of the theme each line \"\n",
    "    \"of the Haikus represents or alludes to it\"\n",
    "    \"You should give your explanations in Korean.\"),\n",
    "    (\"human\", \"{haikus}\"),\n",
    "])\n",
    "\n",
    "critic_haikus_chain = critic_haikus_prompt | chat\n",
    "\n",
    "final_chain = {\"haikus\": haikus_chain} | critic_haikus_chain\n",
    "\n",
    "def setTheme(self, text) :\n",
    "    return final_chain.invoke({\n",
    "    \"theme\": text,\n",
    "    })\n",
    "\n",
    "setTheme(\"C programming language\")\n"
   ]
  }
 ],
 "metadata": {
  "kernelspec": {
   "display_name": "env",
   "language": "python",
   "name": "python3"
  },
  "language_info": {
   "codemirror_mode": {
    "name": "ipython",
    "version": 3
   },
   "file_extension": ".py",
   "mimetype": "text/x-python",
   "name": "python",
   "nbconvert_exporter": "python",
   "pygments_lexer": "ipython3",
   "version": "3.11.6"
  }
 },
 "nbformat": 4,
 "nbformat_minor": 5
}
